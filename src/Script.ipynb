{
 "cells": [
  {
   "cell_type": "code",
   "execution_count": 32,
   "id": "1c837522-9408-4bad-8f4b-6cc06e6f08a8",
   "metadata": {},
   "outputs": [],
   "source": [
    "import pandas as pd\n",
    "import numpy as np\n",
    "from sklearn.metrics.pairwise import cosine_similarity\n",
    "from sklearn.model_selection import train_test_split\n",
    "from sklearn.impute import SimpleImputer\n",
    "from scipy.sparse import csr_matrix"
   ]
  },
  {
   "cell_type": "code",
   "execution_count": 68,
   "id": "3e4dddbe-6de2-4626-9f74-810103783a4b",
   "metadata": {},
   "outputs": [],
   "source": [
    "anime_df = pd.read_csv(\"../dataset/anime.csv\")\n",
    "rating_df = pd.read_csv(\"../dataset/rating.csv\")\n",
    "anime_df = anime_df.drop(\"rating\",axis=1)\n",
    "df = pd.merge(rating_df, anime_df, on='anime_id', how = \"inner\")"
   ]
  },
  {
   "cell_type": "code",
   "execution_count": 69,
   "id": "65cf6a6e-0b3d-404b-85ba-e3c1e8bbe576",
   "metadata": {},
   "outputs": [
    {
     "name": "stdout",
     "output_type": "stream",
     "text": [
      "6337239\n"
     ]
    }
   ],
   "source": [
    "#remove empty ratings\n",
    "df = df[df['rating'] != -1]\n",
    "print(len(df))"
   ]
  },
  {
   "cell_type": "markdown",
   "id": "87bdc95b-03d4-476a-86a8-b3f7711f2eeb",
   "metadata": {},
   "source": [
    "## Create user-item matrix"
   ]
  },
  {
   "cell_type": "code",
   "execution_count": 72,
   "id": "37cff3e2-8568-4daf-9f77-d6109af153c6",
   "metadata": {},
   "outputs": [
    {
     "name": "stdout",
     "output_type": "stream",
     "text": [
      "anime_id    20\n",
      "user_id       \n",
      "3          8.0\n",
      "5          6.0\n",
      "21         8.0\n",
      "28         9.0\n",
      "34         9.0\n",
      "...        ...\n",
      "33162      7.0\n",
      "33165     10.0\n",
      "33167      7.0\n",
      "33172      7.0\n",
      "33176      8.0\n",
      "\n",
      "[10000 rows x 1 columns]\n",
      "(10000, 1)\n"
     ]
    }
   ],
   "source": [
    "df = df.head(10000)\n",
    "user_item_matrix = df.pivot_table(index='user_id', columns='anime_id', values='rating')\n",
    "user_item_matrix = user_item_matrix.fillna(0)\n",
    "print(user_item_matrix)\n",
    "print(user_item_matrix.shape)\n"
   ]
  },
  {
   "cell_type": "code",
   "execution_count": 73,
   "id": "460b7463-ffb6-42a3-8d51-640f6b3a2b0d",
   "metadata": {},
   "outputs": [
    {
     "name": "stdout",
     "output_type": "stream",
     "text": [
      "user_id  3      5      21     28     34     38     39     41     43     46     \\\n",
      "user_id                                                                         \n",
      "3          1.0    1.0    1.0    1.0    1.0    1.0    1.0    1.0    1.0    1.0   \n",
      "5          1.0    1.0    1.0    1.0    1.0    1.0    1.0    1.0    1.0    1.0   \n",
      "21         1.0    1.0    1.0    1.0    1.0    1.0    1.0    1.0    1.0    1.0   \n",
      "28         1.0    1.0    1.0    1.0    1.0    1.0    1.0    1.0    1.0    1.0   \n",
      "34         1.0    1.0    1.0    1.0    1.0    1.0    1.0    1.0    1.0    1.0   \n",
      "...        ...    ...    ...    ...    ...    ...    ...    ...    ...    ...   \n",
      "33162      1.0    1.0    1.0    1.0    1.0    1.0    1.0    1.0    1.0    1.0   \n",
      "33165      1.0    1.0    1.0    1.0    1.0    1.0    1.0    1.0    1.0    1.0   \n",
      "33167      1.0    1.0    1.0    1.0    1.0    1.0    1.0    1.0    1.0    1.0   \n",
      "33172      1.0    1.0    1.0    1.0    1.0    1.0    1.0    1.0    1.0    1.0   \n",
      "33176      1.0    1.0    1.0    1.0    1.0    1.0    1.0    1.0    1.0    1.0   \n",
      "\n",
      "user_id  ...  33144  33146  33149  33151  33159  33162  33165  33167  33172  \\\n",
      "user_id  ...                                                                  \n",
      "3        ...    1.0    1.0    1.0    1.0    1.0    1.0    1.0    1.0    1.0   \n",
      "5        ...    1.0    1.0    1.0    1.0    1.0    1.0    1.0    1.0    1.0   \n",
      "21       ...    1.0    1.0    1.0    1.0    1.0    1.0    1.0    1.0    1.0   \n",
      "28       ...    1.0    1.0    1.0    1.0    1.0    1.0    1.0    1.0    1.0   \n",
      "34       ...    1.0    1.0    1.0    1.0    1.0    1.0    1.0    1.0    1.0   \n",
      "...      ...    ...    ...    ...    ...    ...    ...    ...    ...    ...   \n",
      "33162    ...    1.0    1.0    1.0    1.0    1.0    1.0    1.0    1.0    1.0   \n",
      "33165    ...    1.0    1.0    1.0    1.0    1.0    1.0    1.0    1.0    1.0   \n",
      "33167    ...    1.0    1.0    1.0    1.0    1.0    1.0    1.0    1.0    1.0   \n",
      "33172    ...    1.0    1.0    1.0    1.0    1.0    1.0    1.0    1.0    1.0   \n",
      "33176    ...    1.0    1.0    1.0    1.0    1.0    1.0    1.0    1.0    1.0   \n",
      "\n",
      "user_id  33176  \n",
      "user_id         \n",
      "3          1.0  \n",
      "5          1.0  \n",
      "21         1.0  \n",
      "28         1.0  \n",
      "34         1.0  \n",
      "...        ...  \n",
      "33162      1.0  \n",
      "33165      1.0  \n",
      "33167      1.0  \n",
      "33172      1.0  \n",
      "33176      1.0  \n",
      "\n",
      "[10000 rows x 10000 columns]\n"
     ]
    }
   ],
   "source": [
    "user_similarity = cosine_similarity(user_item_matrix)\n",
    "user_similarity_df = pd.DataFrame(user_similarity, index=user_item_matrix.index, columns=user_item_matrix.index)\n",
    "print(user_similarity_df)"
   ]
  },
  {
   "cell_type": "code",
   "execution_count": 79,
   "id": "1f466332-80f6-41cd-80e8-367e44977616",
   "metadata": {},
   "outputs": [
    {
     "name": "stdout",
     "output_type": "stream",
     "text": [
      "anime_id\n",
      "20    8.0\n",
      "Name: 3, dtype: float64\n",
      "Index([], dtype='int64', name='anime_id')\n",
      "Series([], Name: 3, dtype: float64)\n"
     ]
    }
   ],
   "source": [
    "def get_top_n_recommendations(user_id, n=10):\n",
    "    # Get the similarity scores for the user\n",
    "    user_sim_scores = user_similarity_df[user_id]\n",
    "    \n",
    "    # Get the user's ratings\n",
    "    user_ratings = user_item_matrix.loc[user_id]\n",
    "    print(user_ratings)\n",
    "    \n",
    "    # Calculate the weighted sum of ratings for all items\n",
    "    weighted_sum_ratings = np.dot(user_similarity, user_item_matrix)\n",
    "    \n",
    "    # Normalize by the sum of similarities to get the predicted ratings\n",
    "    sum_similarities = user_similarity.sum(axis=1)\n",
    "    predicted_ratings = weighted_sum_ratings / sum_similarities[:, np.newaxis]\n",
    "    \n",
    "    # Convert the predictions to a DataFrame\n",
    "    predicted_ratings_df = pd.DataFrame(predicted_ratings, index=user_item_matrix.index, columns=user_item_matrix.columns)\n",
    "   \n",
    "    \n",
    "    # Get the anime the user hasn't rated yet\n",
    "    unrated_anime = user_ratings[user_ratings == 0].index\n",
    "    print(unrated_anime)\n",
    "    \n",
    "    # Get the predicted ratings for these anime\n",
    "    recommendations = predicted_ratings_df.loc[user_id, unrated_anime]\n",
    "    \n",
    "    # Sort the predictions by rating in descending order and return the top n\n",
    "    top_n_recommendations = recommendations.sort_values(ascending=False).head(n)\n",
    "    \n",
    "    return top_n_recommendations\n",
    "\n",
    "recommendations = get_top_n_recommendations(user_id=3, n=10)\n",
    "print(recommendations)\n"
   ]
  },
  {
   "cell_type": "code",
   "execution_count": 44,
   "id": "b24aeb3a-ef2c-4c2e-b6b2-1db51a44a09d",
   "metadata": {},
   "outputs": [],
   "source": [
    "# Get anime names for the recommended anime_ids\n",
    "recommended_anime = [(anime_df[anime_df['anime_id'] == anime_id]['name'].values[0], rating) \n",
    "                     for anime_id, rating in recommendations.items()]\n",
    "\n",
    "# Print the recommended anime\n",
    "for anime_name, rating in recommended_anime:\n",
    "    print(f\"{anime_name}: {rating:.2f}\")\n"
   ]
  },
  {
   "cell_type": "code",
   "execution_count": null,
   "id": "beda79e0-3c27-4a0b-895c-b41cac457ee8",
   "metadata": {},
   "outputs": [],
   "source": []
  }
 ],
 "metadata": {
  "kernelspec": {
   "display_name": "Python 3 (ipykernel)",
   "language": "python",
   "name": "python3"
  },
  "language_info": {
   "codemirror_mode": {
    "name": "ipython",
    "version": 3
   },
   "file_extension": ".py",
   "mimetype": "text/x-python",
   "name": "python",
   "nbconvert_exporter": "python",
   "pygments_lexer": "ipython3",
   "version": "3.11.7"
  }
 },
 "nbformat": 4,
 "nbformat_minor": 5
}
